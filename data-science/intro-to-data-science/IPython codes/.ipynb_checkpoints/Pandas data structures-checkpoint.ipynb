{
 "cells": [
  {
   "cell_type": "code",
   "execution_count": 2,
   "metadata": {},
   "outputs": [],
   "source": [
    "import pandas as pd\n",
    "\n",
    "import numpy as np\n",
    "\n",
    "pd.DataFrame?"
   ]
  },
  {
   "cell_type": "markdown",
   "metadata": {},
   "source": [
    "## Creation of data frames by different methods"
   ]
  },
  {
   "cell_type": "code",
   "execution_count": 3,
   "metadata": {},
   "outputs": [
    {
     "name": "stdout",
     "output_type": "stream",
     "text": [
      "        0  1  2\n",
      "first   1  2  3\n",
      "second  4  5  6\n",
      "third   7  8  9\n",
      "   0  1  2\n",
      "0  1  2  3\n",
      "1  4  5  6\n",
      "2  7  8  9\n",
      "            laptop        mouse\n",
      "comp1       gaming      optical\n",
      "comp2  potato head  roller ball\n",
      "comp3       normal       gaming\n"
     ]
    }
   ],
   "source": [
    "pd.DataFrame?\n",
    "\n",
    "# We can specify column labels too!!!!!!! while creating data frames\n",
    "\n",
    "# creating data frames through array/list\n",
    "list1 = [1,2,3]\n",
    "list2 = [4,5,6]\n",
    "list3 = [7,8,9]\n",
    "\n",
    "# every row and column forms a series (1D) where each element has unique label\n",
    "listDFrame = pd.DataFrame([list1, list2, list3], index = ['first', 'second', 'third'])\n",
    "print(listDFrame)\n",
    "\n",
    "# Here we see the columns have labels by default as integers\n",
    "\n",
    "arr1 = np.array(list1)\n",
    "arr2 = np.array(list2)\n",
    "arr3 = np.array(list3)\n",
    "\n",
    "arrDFrame = pd.DataFrame([arr1, arr2, arr3])\n",
    "\n",
    "print(arrDFrame)\n",
    "\n",
    "# creating data frames by using list of dictionaries\n",
    "d1 = {'laptop': 'gaming', 'mouse': 'optical'}\n",
    "d2 = {'laptop': 'potato head', 'mouse': 'roller ball'}\n",
    "d3 = {'laptop': 'normal', 'mouse':'gaming'}\n",
    "\n",
    "dictDFrame = pd.DataFrame([d1, d2, d3], index = ['comp1', 'comp2', 'comp3'])\n",
    "print(dictDFrame)"
   ]
  },
  {
   "cell_type": "code",
   "execution_count": 4,
   "metadata": {},
   "outputs": [
    {
     "name": "stdout",
     "output_type": "stream",
     "text": [
      "        laptop        mouse\n",
      "0       gaming      optical\n",
      "1  potato head  roller ball\n",
      "2       normal       gaming\n",
      "   0  1  2\n",
      "0  6  8  7\n",
      "1  5  8  7\n",
      "2  2  4  6\n"
     ]
    }
   ],
   "source": [
    "# creating data frames using series (series are created by numpy arrays and dictionary)\n",
    "\n",
    "series1 = pd.Series(d1)\n",
    "series2 = pd.Series(d2)\n",
    "series3 = pd.Series(d3)\n",
    "\n",
    "seriesDFrame = pd.DataFrame([series1, series2, series3])\n",
    "print(seriesDFrame)\n",
    "\n",
    "# using random.randint and no explicit index\n",
    "sarr1 = pd.Series(np.random.randint(0,10,(3,))) #(3,) is for 1D array\n",
    "sarr2 = pd.Series(np.random.randint(0,10,(3,)))\n",
    "sarr3 = pd.Series(np.random.randint(0,10,(3,)))\n",
    "\n",
    "DFrame = pd.DataFrame([sarr1, sarr2, sarr3])\n",
    "print(DFrame)"
   ]
  },
  {
   "cell_type": "code",
   "execution_count": 5,
   "metadata": {},
   "outputs": [
    {
     "name": "stdout",
     "output_type": "stream",
     "text": [
      "          first       second   third\n",
      "laptop   gaming  potato head  normal\n",
      "mouse   optical  roller ball  gaming\n"
     ]
    }
   ],
   "source": [
    "# dictionary of dictionary\n",
    "dd1 = {'first' : d1, 'second' : d2, 'third' : d3}\n",
    "\n",
    "dDFrame = pd.DataFrame(dd1)\n",
    "\n",
    "print(dDFrame) # Here we got the key values of the parent dictionary to be column labels"
   ]
  },
  {
   "cell_type": "markdown",
   "metadata": {},
   "source": [
    "## Querying data from data frames"
   ]
  },
  {
   "cell_type": "code",
   "execution_count": 6,
   "metadata": {},
   "outputs": [
    {
     "name": "stdout",
     "output_type": "stream",
     "text": [
      "            laptop        mouse\n",
      "comp1       gaming      optical\n",
      "comp2  potato head  roller ball\n",
      "comp3       normal       gaming\n",
      "\n",
      "laptop     gaming\n",
      "mouse     optical\n",
      "Name: comp1, dtype: object\n",
      "\n",
      "laptop    potato head\n",
      "mouse     roller ball\n",
      "Name: comp2, dtype: object\n",
      "\n",
      "laptop    normal\n",
      "mouse     gaming\n",
      "Name: comp3, dtype: object\n"
     ]
    }
   ],
   "source": [
    "# Querying only rows\n",
    "temp = dictDFrame \n",
    "print(temp, end = '\\n\\n')\n",
    "\n",
    "# using indices to access rows, we need to use iloc\n",
    "print(temp.iloc[0], end = '\\n\\n') # first row\n",
    "\n",
    "print(temp.iloc[1], end = '\\n\\n') # second row\n",
    "# output of the row shows LABEL of the row with elements of the row and their colLables\n",
    "\n",
    "# using row labels to access rows, we need to use loc\n",
    "print(temp.loc['comp3']) # thrid row"
   ]
  },
  {
   "cell_type": "code",
   "execution_count": 7,
   "metadata": {},
   "outputs": [],
   "source": [
    "temp.iloc?"
   ]
  },
  {
   "cell_type": "code",
   "execution_count": 8,
   "metadata": {},
   "outputs": [],
   "source": [
    "temp.loc?"
   ]
  },
  {
   "cell_type": "markdown",
   "metadata": {},
   "source": [
    "### Querying a specific element with loc and iloc, try slicing"
   ]
  },
  {
   "cell_type": "code",
   "execution_count": 9,
   "metadata": {},
   "outputs": [
    {
     "name": "stdout",
     "output_type": "stream",
     "text": [
      "potato head\n",
      "\n",
      "gaming\n",
      "\n",
      "optical\n",
      "\n",
      "normal\n",
      "\n",
      "slicing row and columns separately ----------------- \n",
      "\n",
      "            laptop        mouse\n",
      "comp1       gaming      optical\n",
      "comp2  potato head  roller ball\n",
      "\n",
      "             mouse       laptop\n",
      "comp1      optical       gaming\n",
      "comp2  roller ball  potato head\n",
      "comp3       gaming       normal\n",
      "\n",
      "            laptop        mouse\n",
      "comp1       gaming      optical\n",
      "comp2  potato head  roller ball\n",
      "comp3       normal       gaming\n",
      "\n",
      "          comp1   comp3\n",
      "laptop   gaming  normal\n",
      "mouse   optical  gaming\n",
      "\n",
      "            laptop        mouse\n",
      "comp1       gaming      optical\n",
      "comp2  potato head  roller ball\n",
      "comp3       normal       gaming\n",
      "\n",
      "slicing rows and columns-------------- \n",
      "\n",
      "            laptop        mouse\n",
      "comp2  potato head  roller ball\n",
      "comp3       normal       gaming\n",
      "\n",
      "            laptop        mouse\n",
      "comp1       gaming      optical\n",
      "comp2  potato head  roller ball\n",
      "\n",
      "            laptop        mouse\n",
      "comp2  potato head  roller ball\n",
      "comp3       normal       gaming\n",
      "\n",
      "            laptop        mouse\n",
      "comp1       gaming      optical\n",
      "comp2  potato head  roller ball\n"
     ]
    }
   ],
   "source": [
    "# loc and iloc are used to query rows only, we can give 2nd parameter which is column\n",
    "\n",
    "# using iloc-----------------------------------\n",
    "print(temp.iloc[1,0], end = '\\n\\n') # 2nd row and 1st column\n",
    "\n",
    "print(temp.iloc[0,0], end = '\\n\\n') # 1st row and 1st column\n",
    "\n",
    "# using loc -----------------------------------\n",
    "print(temp.loc['comp1', 'mouse'], end = '\\n\\n') # 1st row and 2nd column\n",
    "\n",
    "print(temp.loc['comp3', 'laptop'], end = '\\n\\n') # 3rd row and 1st column\n",
    "\n",
    "# trying slicing ------------------------------\n",
    "# both iloc and loc can handle slicing\n",
    "\n",
    "print('slicing row and columns separately ----------------- \\n')\n",
    "\n",
    "# rows 1 and 2\n",
    "print(temp.iloc[0:2], end = '\\n\\n')\n",
    "\n",
    "# columns 1 and 2, in normal indexing we use user column labels if present\n",
    "print(temp[['mouse', 'laptop']], end = '\\n\\n') # explicitly mentioning them\n",
    "\n",
    "# or\n",
    "print(temp.loc[:, 'laptop' : 'mouse'], end = '\\n\\n') # using slicing\n",
    "\n",
    "# for multiple columns which may not be consecutive we use a list while indexing\n",
    "print(temp.T[['comp1','comp3']], end = '\\n\\n')\n",
    "\n",
    "\n",
    "# slicing for direct indexing is similar to slicing rows in loc\n",
    "print(temp['comp1' : 'comp3'], end = '\\n\\n') # similar to temp.loc['comp1':'comp3']\n",
    "\n",
    "\n",
    "# slicing both rows and columns and getting inner block of elements ---------------------\n",
    "\n",
    "print('slicing rows and columns-------------- \\n')\n",
    "\n",
    "# using iloc\n",
    "print(temp.iloc[1:3, 0:2], end = '\\n\\n') # bottom right block\n",
    "\n",
    "print(temp.iloc[0:2, 0:2], end = '\\n\\n') # top left block\n",
    "\n",
    "# using loc\n",
    "# bottom right block\n",
    "print(temp.loc['comp2': 'comp3', 'laptop': 'mouse'], end = '\\n\\n')\n",
    "\n",
    "# top left block\n",
    "print(temp.loc['comp1':'comp2', 'laptop':'mouse'])\n"
   ]
  },
  {
   "cell_type": "markdown",
   "metadata": {},
   "source": [
    "## Chaining of operations"
   ]
  },
  {
   "cell_type": "code",
   "execution_count": 10,
   "metadata": {},
   "outputs": [
    {
     "name": "stdout",
     "output_type": "stream",
     "text": [
      "gaming\n"
     ]
    }
   ],
   "source": [
    "# chaining for when we do to different operations\n",
    "# temp.loc[row, col] is one operation\n",
    "# but temp.loc[row][column] is two different operations\n",
    "\n",
    "# here first we get new dataframe and then we find element with 'laptop' label\n",
    "print(temp.loc['comp1']['laptop'])\n",
    "\n",
    "# generally chaining is slow and may give unexpected results, try to avoid it"
   ]
  },
  {
   "cell_type": "markdown",
   "metadata": {},
   "source": [
    "## Droping and deleting from a dataframe"
   ]
  },
  {
   "cell_type": "code",
   "execution_count": 11,
   "metadata": {},
   "outputs": [
    {
     "name": "stdout",
     "output_type": "stream",
     "text": [
      "            laptop        mouse\n",
      "comp2  potato head  roller ball\n",
      "comp3       normal       gaming\n",
      "\n",
      "             mouse\n",
      "comp1      optical\n",
      "comp2  roller ball\n",
      "comp3       gaming\n",
      "\n",
      "             mouse\n",
      "comp1      optical\n",
      "comp2  roller ball\n",
      "comp3       gaming\n",
      "\n",
      "             mouse\n",
      "comp2  roller ball\n",
      "comp3       gaming\n",
      "\n",
      "            laptop        mouse\n",
      "comp1       gaming      optical\n",
      "comp2  potato head  roller ball\n",
      "comp3       normal       gaming\n",
      "\n"
     ]
    },
    {
     "data": {
      "text/html": [
       "<div>\n",
       "<style scoped>\n",
       "    .dataframe tbody tr th:only-of-type {\n",
       "        vertical-align: middle;\n",
       "    }\n",
       "\n",
       "    .dataframe tbody tr th {\n",
       "        vertical-align: top;\n",
       "    }\n",
       "\n",
       "    .dataframe thead th {\n",
       "        text-align: right;\n",
       "    }\n",
       "</style>\n",
       "<table border=\"1\" class=\"dataframe\">\n",
       "  <thead>\n",
       "    <tr style=\"text-align: right;\">\n",
       "      <th></th>\n",
       "      <th>mouse</th>\n",
       "    </tr>\n",
       "  </thead>\n",
       "  <tbody>\n",
       "    <tr>\n",
       "      <th>comp1</th>\n",
       "      <td>optical</td>\n",
       "    </tr>\n",
       "    <tr>\n",
       "      <th>comp2</th>\n",
       "      <td>roller ball</td>\n",
       "    </tr>\n",
       "    <tr>\n",
       "      <th>comp3</th>\n",
       "      <td>gaming</td>\n",
       "    </tr>\n",
       "  </tbody>\n",
       "</table>\n",
       "</div>"
      ],
      "text/plain": [
       "             mouse\n",
       "comp1      optical\n",
       "comp2  roller ball\n",
       "comp3       gaming"
      ]
     },
     "execution_count": 11,
     "metadata": {},
     "output_type": "execute_result"
    }
   ],
   "source": [
    "# Drop method is for each data frame object\n",
    "# Generally drop function creates a new copy which has the requested elements dropped\n",
    "\n",
    "# for dropping elements in the original data frame we set inplace=true\n",
    "\n",
    "# temp.drop?\n",
    "\n",
    "# we pass the row index/label to remove a row\n",
    "\n",
    "# by row label\n",
    "print(temp.drop('comp1'), end = '\\n\\n') # dropping 'comp1' row\n",
    "\n",
    "# print(temp.drop(0)) # gives keyError, if labels are mentioned\n",
    "\n",
    "# print(temp.drop('laptop')) # error as the axis by default is 0 or rows\n",
    "\n",
    "# for columns we either use column parameter or mention axis = 1\n",
    "print(temp.drop('laptop', axis = 1), end = '\\n\\n') # for laptop column\n",
    "\n",
    "# or -------\n",
    "\n",
    "print(temp.drop(columns='laptop'), end = '\\n\\n') # or columns = ['laptop']\n",
    "# for multiple columns use list [c1, c2 , ...]\n",
    "\n",
    "# drop if not mentioned searches any label given, if explicitly mentioned\n",
    "# either index for integers (for rows) and columns\n",
    "\n",
    "# By default axis = 0, so if i need to delete rows i can just mention the\n",
    "# label\n",
    "\n",
    "# dropping a particular element ---------------------------\n",
    "\n",
    "# didn't remove a particular element but removed the whole column and row\n",
    "print(temp.drop(index = 'comp1', columns='laptop'), end = '\\n\\n')\n",
    "\n",
    "# drop function can't drop a particular element\n",
    "\n",
    "# Deleting using del keyword ----------------------------------------\n",
    "# Deleting using del keyword has immediate effect\n",
    "\n",
    "# del keyword is used for columns during direct indexing\n",
    "rcopy = temp.copy()\n",
    "print(rcopy, end = '\\n\\n')\n",
    "\n",
    "del rcopy['laptop']\n",
    "rcopy"
   ]
  },
  {
   "cell_type": "markdown",
   "metadata": {},
   "source": [
    "## Adding new columns or rows to existing data frame"
   ]
  },
  {
   "cell_type": "code",
   "execution_count": 12,
   "metadata": {},
   "outputs": [
    {
     "name": "stdout",
     "output_type": "stream",
     "text": [
      "            laptop        mouse\n",
      "comp1       gaming      optical\n",
      "comp2  potato head  roller ball\n",
      "comp3       normal       gaming\n",
      "comp4          NaN          NaN\n",
      "\n",
      "            laptop        mouse monitor\n",
      "comp1       gaming      optical     LCD\n",
      "comp2  potato head  roller ball     LCD\n",
      "comp3       normal       gaming     LCD\n",
      "comp4          NaN          NaN     LCD\n",
      "\n",
      "            laptop        mouse monitor headset\n",
      "comp1       gaming      optical     LCD     NaN\n",
      "comp2  potato head  roller ball     LCD     NaN\n",
      "comp3       normal       gaming     LCD     NaN\n",
      "comp4          NaN          NaN     LCD     NaN\n",
      "comp5          NaN          NaN     NaN     new\n"
     ]
    }
   ],
   "source": [
    "# we can add a new column or row by basically considering another label\n",
    "# and assigning it a value that gets broadcasted\n",
    "\n",
    "# adding a new row, gets reflected to the original data frame\n",
    "temp.loc['comp4'] = None # whole row even if new columns arrive this\n",
    "                        # will be their probable default val\n",
    "print(temp, end = '\\n\\n')\n",
    "\n",
    "# adding a new col\n",
    "temp['monitor'] = 'LCD'\n",
    "print(temp, end = '\\n\\n')\n",
    "\n",
    "# adding a new element in a new row and col\n",
    "temp.loc['comp5', 'headset'] = 'new'\n",
    "print(temp)"
   ]
  },
  {
   "cell_type": "code",
   "execution_count": 13,
   "metadata": {},
   "outputs": [
    {
     "name": "stdout",
     "output_type": "stream",
     "text": [
      "False\n"
     ]
    }
   ],
   "source": [
    "col = [1,2,3]\n",
    "print(col[:2] == 1)"
   ]
  },
  {
   "cell_type": "markdown",
   "metadata": {},
   "source": [
    "## Loading a file directly as a data frame"
   ]
  },
  {
   "cell_type": "code",
   "execution_count": null,
   "metadata": {},
   "outputs": [],
   "source": [
    "# now pandas has certain read functions to do this\n",
    "# different file formats have different read functions like .read_csv()\n"
   ]
  }
 ],
 "metadata": {
  "kernelspec": {
   "display_name": "Python 3",
   "language": "python",
   "name": "python3"
  },
  "language_info": {
   "codemirror_mode": {
    "name": "ipython",
    "version": 3
   },
   "file_extension": ".py",
   "mimetype": "text/x-python",
   "name": "python",
   "nbconvert_exporter": "python",
   "pygments_lexer": "ipython3",
   "version": "3.6.9"
  }
 },
 "nbformat": 4,
 "nbformat_minor": 4
}
